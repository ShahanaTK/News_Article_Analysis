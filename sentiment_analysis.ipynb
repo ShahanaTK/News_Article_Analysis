{
  "nbformat": 4,
  "nbformat_minor": 0,
  "metadata": {
    "colab": {
      "provenance": [],
      "gpuType": "T4"
    },
    "kernelspec": {
      "name": "python3",
      "display_name": "Python 3"
    },
    "language_info": {
      "name": "python"
    },
    "accelerator": "GPU"
  },
  "cells": [
    {
      "cell_type": "code",
      "execution_count": 36,
      "metadata": {
        "colab": {
          "base_uri": "https://localhost:8080/"
        },
        "id": "yqDwOVER_MgX",
        "outputId": "0db91e6a-2426-4566-c7f2-c168ec9efed7"
      },
      "outputs": [
        {
          "output_type": "stream",
          "name": "stdout",
          "text": [
            "<class 'pandas.core.frame.DataFrame'>\n",
            "RangeIndex: 1 entries, 0 to 0\n",
            "Data columns (total 5 columns):\n",
            " #   Column      Non-Null Count  Dtype \n",
            "---  ------      --------------  ----- \n",
            " 0   Title       1 non-null      object\n",
            " 1   Paragraphs  1 non-null      object\n",
            " 2   Headings    1 non-null      object\n",
            " 3   Links       1 non-null      object\n",
            " 4   Images      1 non-null      object\n",
            "dtypes: object(5)\n",
            "memory usage: 168.0+ bytes\n",
            "None\n",
            "                                               Title  \\\n",
            "0  Iran-Israel war: How it may impact investors -...   \n",
            "\n",
            "                                          Paragraphs  \\\n",
            "0  Stock Trading,Macroeconomics Made Easy: Online...   \n",
            "\n",
            "                                            Headings  \\\n",
            "0  Iran-Israel war: How it may impact investors,T...   \n",
            "\n",
            "                                               Links  \\\n",
            "0  https://economictimes.indiatimes.com/markets/i...   \n",
            "\n",
            "                                              Images  \n",
            "0  https://img.etimg.com/photo/msid-76920425,qual...  \n"
          ]
        }
      ],
      "source": [
        "#loading and reading data\n",
        "import pandas as pd\n",
        "\n",
        "df = pd.read_csv('/content/output.csv')\n",
        "\n",
        "print(df.info())\n",
        "print(df.head())\n"
      ]
    },
    {
      "cell_type": "code",
      "source": [
        "#Handling Missing values and Standardising Features-----------------\n",
        "\n",
        "print(\"Missing values before handling:\\n\", df.isnull().sum())\n",
        "\n",
        "# Filling missing values of Title, Paragraphs and Headings with empty strings \"\".\n",
        "df['Title'].fillna(\"\", inplace=True)\n",
        "df['Paragraphs'].fillna(\"\", inplace=True)\n",
        "df['Headings'].fillna(\"\", inplace=True)\n",
        "\n",
        "# Missing URLs and images are filled with \"No Link\" and \"No Image\".\n",
        "df['Links'].fillna(\"No Link\", inplace=True)\n",
        "df['Images'].fillna(\"No Image\", inplace=True)\n",
        "\n",
        "print(\"Missing values after handling:\\n\", df.isnull().sum())\n"
      ],
      "metadata": {
        "colab": {
          "base_uri": "https://localhost:8080/"
        },
        "id": "nf4WekjY_cBu",
        "outputId": "e8166679-8721-4736-f209-09708ccfa8fb"
      },
      "execution_count": 37,
      "outputs": [
        {
          "output_type": "stream",
          "name": "stdout",
          "text": [
            "Missing values before handling:\n",
            " Title         0\n",
            "Paragraphs    0\n",
            "Headings      0\n",
            "Links         0\n",
            "Images        0\n",
            "dtype: int64\n",
            "Missing values after handling:\n",
            " Title         0\n",
            "Paragraphs    0\n",
            "Headings      0\n",
            "Links         0\n",
            "Images        0\n",
            "dtype: int64\n"
          ]
        },
        {
          "output_type": "stream",
          "name": "stderr",
          "text": [
            "<ipython-input-37-568de5972b38>:6: FutureWarning: A value is trying to be set on a copy of a DataFrame or Series through chained assignment using an inplace method.\n",
            "The behavior will change in pandas 3.0. This inplace method will never work because the intermediate object on which we are setting values always behaves as a copy.\n",
            "\n",
            "For example, when doing 'df[col].method(value, inplace=True)', try using 'df.method({col: value}, inplace=True)' or df[col] = df[col].method(value) instead, to perform the operation inplace on the original object.\n",
            "\n",
            "\n",
            "  df['Title'].fillna(\"\", inplace=True)\n",
            "<ipython-input-37-568de5972b38>:7: FutureWarning: A value is trying to be set on a copy of a DataFrame or Series through chained assignment using an inplace method.\n",
            "The behavior will change in pandas 3.0. This inplace method will never work because the intermediate object on which we are setting values always behaves as a copy.\n",
            "\n",
            "For example, when doing 'df[col].method(value, inplace=True)', try using 'df.method({col: value}, inplace=True)' or df[col] = df[col].method(value) instead, to perform the operation inplace on the original object.\n",
            "\n",
            "\n",
            "  df['Paragraphs'].fillna(\"\", inplace=True)\n",
            "<ipython-input-37-568de5972b38>:8: FutureWarning: A value is trying to be set on a copy of a DataFrame or Series through chained assignment using an inplace method.\n",
            "The behavior will change in pandas 3.0. This inplace method will never work because the intermediate object on which we are setting values always behaves as a copy.\n",
            "\n",
            "For example, when doing 'df[col].method(value, inplace=True)', try using 'df.method({col: value}, inplace=True)' or df[col] = df[col].method(value) instead, to perform the operation inplace on the original object.\n",
            "\n",
            "\n",
            "  df['Headings'].fillna(\"\", inplace=True)\n",
            "<ipython-input-37-568de5972b38>:11: FutureWarning: A value is trying to be set on a copy of a DataFrame or Series through chained assignment using an inplace method.\n",
            "The behavior will change in pandas 3.0. This inplace method will never work because the intermediate object on which we are setting values always behaves as a copy.\n",
            "\n",
            "For example, when doing 'df[col].method(value, inplace=True)', try using 'df.method({col: value}, inplace=True)' or df[col] = df[col].method(value) instead, to perform the operation inplace on the original object.\n",
            "\n",
            "\n",
            "  df['Links'].fillna(\"No Link\", inplace=True)\n",
            "<ipython-input-37-568de5972b38>:12: FutureWarning: A value is trying to be set on a copy of a DataFrame or Series through chained assignment using an inplace method.\n",
            "The behavior will change in pandas 3.0. This inplace method will never work because the intermediate object on which we are setting values always behaves as a copy.\n",
            "\n",
            "For example, when doing 'df[col].method(value, inplace=True)', try using 'df.method({col: value}, inplace=True)' or df[col] = df[col].method(value) instead, to perform the operation inplace on the original object.\n",
            "\n",
            "\n",
            "  df['Images'].fillna(\"No Image\", inplace=True)\n"
          ]
        }
      ]
    },
    {
      "cell_type": "code",
      "source": [
        "import re\n",
        "\n",
        "# Converting all texts in to lowercase for text consistency\n",
        "df['Title'] = df['Title'].str.lower()\n",
        "df['Paragraphs'] = df['Paragraphs'].str.lower()\n",
        "df['Headings'] = df['Headings'].str.lower()\n",
        "\n",
        "# Removing any punctuations or unwanted characters from Paragraphs and Headings.\n",
        "df['Paragraphs'] = df['Paragraphs'].apply(lambda x: re.sub(r'[^\\w\\s]', '', x))\n",
        "df['Headings'] = df['Headings'].apply(lambda x: re.sub(r'[^\\w\\s]', '', x))\n",
        "\n",
        "# Cleaning URLs (example: removing unwanted query strings)\n",
        "def clean_url(url):\n",
        "    return re.sub(r'\\?.*', '', url) if isinstance(url, str) else url\n",
        "\n",
        "df['Links'] = df['Links'].apply(clean_url)\n",
        "df['Images'] = df['Images'].apply(clean_url)\n",
        "\n",
        "\n",
        "print(df.head())\n",
        "\n"
      ],
      "metadata": {
        "colab": {
          "base_uri": "https://localhost:8080/"
        },
        "id": "ntosXL0M_cET",
        "outputId": "1eec537d-ef89-41c9-ef50-d2a1627f3164"
      },
      "execution_count": 38,
      "outputs": [
        {
          "output_type": "stream",
          "name": "stdout",
          "text": [
            "                                               Title  \\\n",
            "0  iran-israel war: how it may impact investors -...   \n",
            "\n",
            "                                          Paragraphs  \\\n",
            "0  stock tradingmacroeconomics made easy online c...   \n",
            "\n",
            "                                            Headings  \\\n",
            "0  iranisrael war how it may impact investorsthe ...   \n",
            "\n",
            "                                               Links  \\\n",
            "0  https://economictimes.indiatimes.com/markets/i...   \n",
            "\n",
            "                                              Images  \n",
            "0  https://img.etimg.com/photo/msid-76920425,qual...  \n"
          ]
        }
      ]
    },
    {
      "cell_type": "code",
      "source": [
        "# Checking  word count for each paragraph\n",
        "df['Paragraph_Length'] = df['Paragraphs'].apply(lambda x: len(x.split()))  # Add a column named Paragraph_Lengths and it will store word count for each paragraph\n",
        "\n",
        "# Displaying paragraph lengths to understand the distribution\n",
        "print(df[['Paragraphs', 'Paragraph_Length']].head(20))  # Print first 20 rows\n",
        "\n"
      ],
      "metadata": {
        "colab": {
          "base_uri": "https://localhost:8080/"
        },
        "id": "R2p0SjjB_cHd",
        "outputId": "9268832e-a18e-4d5b-d9a8-f2e56f8d3cb7"
      },
      "execution_count": 39,
      "outputs": [
        {
          "output_type": "stream",
          "name": "stdout",
          "text": [
            "                                          Paragraphs  Paragraph_Length\n",
            "0  stock tradingmacroeconomics made easy online c...               535\n"
          ]
        }
      ]
    },
    {
      "cell_type": "code",
      "source": [
        "#Removing Outliers------------\n",
        "# Removing rows based on the paragraph length, like remove paragraph with length  is too short or too long\n",
        "df = df[df['Paragraphs'].apply(lambda x: 50 < len(x.split()) < 3000)]  # Adjusted thresholds\n",
        "\n",
        "#Checking and displaying the remaining data\n",
        "print(\"Remaining rows after removing outliers:\", len(df))\n",
        "print(df.head())\n",
        "\n"
      ],
      "metadata": {
        "colab": {
          "base_uri": "https://localhost:8080/"
        },
        "id": "s-ZkQPDI_cKR",
        "outputId": "ee20dda1-2295-4c9f-ee12-45e5b1b2dde8"
      },
      "execution_count": 40,
      "outputs": [
        {
          "output_type": "stream",
          "name": "stdout",
          "text": [
            "Remaining rows after removing outliers: 1\n",
            "                                               Title  \\\n",
            "0  iran-israel war: how it may impact investors -...   \n",
            "\n",
            "                                          Paragraphs  \\\n",
            "0  stock tradingmacroeconomics made easy online c...   \n",
            "\n",
            "                                            Headings  \\\n",
            "0  iranisrael war how it may impact investorsthe ...   \n",
            "\n",
            "                                               Links  \\\n",
            "0  https://economictimes.indiatimes.com/markets/i...   \n",
            "\n",
            "                                              Images  Paragraph_Length  \n",
            "0  https://img.etimg.com/photo/msid-76920425,qual...               535  \n"
          ]
        }
      ]
    },
    {
      "cell_type": "code",
      "source": [
        "# lemmatization----------\n",
        "import nltk\n",
        "nltk.download('punkt')\n",
        "from nltk.tokenize import word_tokenize\n",
        "import spacy\n",
        "\n",
        "nlp = spacy.load(\"en_core_web_sm\") # Loading spaCy's English model\n",
        "\n",
        "# Apply lemmatization to the 'Paragraphs' column\n",
        "df['Paragraphs_lemmatized'] = df['Paragraphs'].apply(lambda x: ' '.join([token.lemma_ for token in nlp(x)]))\n",
        "\n",
        "\n",
        "print(df[['Paragraphs', 'Paragraphs_lemmatized']].head())\n",
        "\n"
      ],
      "metadata": {
        "colab": {
          "base_uri": "https://localhost:8080/"
        },
        "id": "QdbqFCre_cQJ",
        "outputId": "aa49162e-3e9e-4fdd-bd14-95b9491843ae"
      },
      "execution_count": 54,
      "outputs": [
        {
          "output_type": "stream",
          "name": "stderr",
          "text": [
            "[nltk_data] Downloading package punkt to /root/nltk_data...\n",
            "[nltk_data]   Package punkt is already up-to-date!\n",
            "/usr/local/lib/python3.10/dist-packages/spacy/util.py:1740: UserWarning: [W111] Jupyter notebook detected: if using `prefer_gpu()` or `require_gpu()`, include it in the same cell right before `spacy.load()` to ensure that the model is loaded on the correct device. More information: http://spacy.io/usage/v3#jupyter-notebook-gpu\n",
            "  warnings.warn(Warnings.W111)\n"
          ]
        },
        {
          "output_type": "stream",
          "name": "stdout",
          "text": [
            "                                          Paragraphs  \\\n",
            "0  stock tradingmacroeconomics made easy online c...   \n",
            "\n",
            "                               Paragraphs_lemmatized  \n",
            "0  stock tradingmacroeconomic make easy online ce...  \n"
          ]
        }
      ]
    },
    {
      "cell_type": "code",
      "source": [
        "#Tokenization and Stop word removal--------------\n",
        "\n",
        "nltk.download('stopwords')\n",
        "from nltk.corpus import stopwords\n",
        "\n",
        "# Defining the list of stopwords\n",
        "stop_words = set(stopwords.words('english'))\n",
        "\n",
        "# Removing stopwords from the 'Paragraphs' column\n",
        "df['Paragraphs_clean'] = df['Paragraphs_lemmatized'].apply(lambda x: ' '.join([word for word in word_tokenize(x) if word not in stop_words]))\n",
        "\n",
        "print(df[['Paragraphs_lemmatized', 'Paragraphs_clean']].head())\n",
        "\n"
      ],
      "metadata": {
        "colab": {
          "base_uri": "https://localhost:8080/"
        },
        "id": "6y-aUDIC_cS1",
        "outputId": "87f807a0-7fbc-4c75-cb51-0fbd4f57e1fe"
      },
      "execution_count": 55,
      "outputs": [
        {
          "output_type": "stream",
          "name": "stdout",
          "text": [
            "                               Paragraphs_lemmatized  \\\n",
            "0  stock tradingmacroeconomic make easy online ce...   \n",
            "\n",
            "                                    Paragraphs_clean  \n",
            "0  stock tradingmacroeconomic make easy online ce...  \n"
          ]
        },
        {
          "output_type": "stream",
          "name": "stderr",
          "text": [
            "[nltk_data] Downloading package stopwords to /root/nltk_data...\n",
            "[nltk_data]   Package stopwords is already up-to-date!\n"
          ]
        }
      ]
    },
    {
      "cell_type": "code",
      "source": [
        "#Task 3----------\n",
        "\n",
        "from collections import Counter\n",
        "\n",
        "text_combined = ' '.join(df['Paragraphs_clean'])\n",
        "\n",
        "# Split into words and count frequency\n",
        "word_counts = Counter(text_combined.split()) # Returns a dictionary like object where keys are words and values are their counts\n",
        "\n",
        "# Getting top 10 the most common words\n",
        "most_common_words = word_counts.most_common(10)\n",
        "print(\"Most common words:\", most_common_words)\n"
      ],
      "metadata": {
        "colab": {
          "base_uri": "https://localhost:8080/"
        },
        "id": "ia-CSsSF_cfE",
        "outputId": "6358da58-1bd2-452a-f029-4fc6f6b1c596"
      },
      "execution_count": 50,
      "outputs": [
        {
          "output_type": "stream",
          "name": "stdout",
          "text": [
            "Most common words: [('make', 14), ('courseby', 12), ('easy', 11), ('trading', 10), ('stock', 9), ('prime', 8), ('financial', 7), ('1', 7), ('saraf', 6), ('et', 6)]\n"
          ]
        }
      ]
    },
    {
      "cell_type": "code",
      "source": [
        "from transformers import pipeline\n",
        "\n",
        "# Load the summarization model(pre-trained model from HuggingFace from summarization tasks).\n",
        "summarizer = pipeline(\"summarization\")\n",
        "\n",
        "# Function to summarize text\n",
        "def summarize_text(text):\n",
        "    truncated_text = ' '.join(text.split()[:500])\n",
        "    summary = summarizer(truncated_text, max_length=130, min_length=30, do_sample=False) #model try to keep summary shorter than 130 and longer than 30 of length\n",
        "    return summary[0]['summary_text']\n",
        "\n",
        "# Applying summarization function to each paragraph\n",
        "df['Summary'] = df['Paragraphs_clean'].apply(summarize_text)\n",
        "\n",
        "\n",
        "print(df[['Paragraphs_clean', 'Summary']].head())\n"
      ],
      "metadata": {
        "colab": {
          "base_uri": "https://localhost:8080/"
        },
        "id": "-UtW0S0geEQa",
        "outputId": "f7d78617-ef04-488b-e4be-6fe83950260b"
      },
      "execution_count": 45,
      "outputs": [
        {
          "output_type": "stream",
          "name": "stderr",
          "text": [
            "No model was supplied, defaulted to sshleifer/distilbart-cnn-12-6 and revision a4f8f3e (https://huggingface.co/sshleifer/distilbart-cnn-12-6).\n",
            "Using a pipeline without specifying a model name and revision in production is not recommended.\n",
            "/usr/local/lib/python3.10/dist-packages/transformers/tokenization_utils_base.py:1601: FutureWarning: `clean_up_tokenization_spaces` was not set. It will be set to `True` by default. This behavior will be depracted in transformers v4.45, and will be then set to `False` by default. For more details check this issue: https://github.com/huggingface/transformers/issues/31884\n",
            "  warnings.warn(\n",
            "Hardware accelerator e.g. GPU is available in the environment, but no `device` argument is passed to the `Pipeline` object. Model will be on CPU.\n"
          ]
        },
        {
          "output_type": "stream",
          "name": "stdout",
          "text": [
            "                                    Paragraphs_clean  \\\n",
            "0  stock tradingmacroeconomic make easy online ce...   \n",
            "\n",
            "                                             Summary  \n",
            "0   Stock tradingmacroeconomic make easy online c...  \n"
          ]
        }
      ]
    },
    {
      "cell_type": "code",
      "source": [
        "#Sentiment Analysis------\n",
        "from transformers import pipeline\n",
        "\n",
        "# Loading emotion analysis model from Hugging Face\n",
        "emotion_analyzer = pipeline(\"text-classification\", model=\"mrm8488/t5-base-finetuned-emotion\")\n",
        "\n",
        "# Defining label mapping\n",
        "label_mapping = {\n",
        "    \"LABEL_0\": \"joy\",\n",
        "    \"LABEL_1\": \"sadness\",\n",
        "    \"LABEL_2\": \"anger\",\n",
        "    \"LABEL_3\": \"fear\",\n",
        "    \"LABEL_4\": \"surprise\",\n",
        "    \"LABEL_5\": \"neutral\"\n",
        "}\n",
        "\n",
        "# Analyze the emotion for the text\n",
        "def analyze_emotion(text):\n",
        "\n",
        "    truncated_text = ' '.join(text.split()[:500])\n",
        "    results = emotion_analyzer(truncated_text)\n",
        "\n",
        "    # Mapping labels to human-readable emotions\n",
        "    mapped_results = [(label_mapping[result['label']], result['score']) for result in results]\n",
        "    return mapped_results\n",
        "\n",
        "# Apply emotion analysis to each paragraph\n",
        "df['Emotion'] = df['Paragraphs_clean'].apply(analyze_emotion)\n",
        "\n",
        "\n",
        "df[['Paragraphs', 'Emotion']].head()\n"
      ],
      "metadata": {
        "colab": {
          "base_uri": "https://localhost:8080/",
          "height": 205
        },
        "id": "WDl3QDROeETt",
        "outputId": "cb7d096e-2bc2-4e5b-d580-e9ffc823010b"
      },
      "execution_count": 46,
      "outputs": [
        {
          "output_type": "stream",
          "name": "stderr",
          "text": [
            "Some weights of T5ForSequenceClassification were not initialized from the model checkpoint at mrm8488/t5-base-finetuned-emotion and are newly initialized: ['classification_head.dense.bias', 'classification_head.dense.weight', 'classification_head.out_proj.bias', 'classification_head.out_proj.weight']\n",
            "You should probably TRAIN this model on a down-stream task to be able to use it for predictions and inference.\n",
            "/usr/local/lib/python3.10/dist-packages/transformers/tokenization_utils_base.py:1601: FutureWarning: `clean_up_tokenization_spaces` was not set. It will be set to `True` by default. This behavior will be depracted in transformers v4.45, and will be then set to `False` by default. For more details check this issue: https://github.com/huggingface/transformers/issues/31884\n",
            "  warnings.warn(\n",
            "Hardware accelerator e.g. GPU is available in the environment, but no `device` argument is passed to the `Pipeline` object. Model will be on CPU.\n",
            "Token indices sequence length is longer than the specified maximum sequence length for this model (786 > 512). Running this sequence through the model will result in indexing errors\n"
          ]
        },
        {
          "output_type": "execute_result",
          "data": {
            "text/plain": [
              "                                          Paragraphs  \\\n",
              "0  stock tradingmacroeconomics made easy online c...   \n",
              "\n",
              "                           Emotion  \n",
              "0  [(sadness, 0.8176189661026001)]  "
            ],
            "text/html": [
              "\n",
              "  <div id=\"df-c08014f4-43be-40b3-b831-2a3f8307653e\" class=\"colab-df-container\">\n",
              "    <div>\n",
              "<style scoped>\n",
              "    .dataframe tbody tr th:only-of-type {\n",
              "        vertical-align: middle;\n",
              "    }\n",
              "\n",
              "    .dataframe tbody tr th {\n",
              "        vertical-align: top;\n",
              "    }\n",
              "\n",
              "    .dataframe thead th {\n",
              "        text-align: right;\n",
              "    }\n",
              "</style>\n",
              "<table border=\"1\" class=\"dataframe\">\n",
              "  <thead>\n",
              "    <tr style=\"text-align: right;\">\n",
              "      <th></th>\n",
              "      <th>Paragraphs</th>\n",
              "      <th>Emotion</th>\n",
              "    </tr>\n",
              "  </thead>\n",
              "  <tbody>\n",
              "    <tr>\n",
              "      <th>0</th>\n",
              "      <td>stock tradingmacroeconomics made easy online c...</td>\n",
              "      <td>[(sadness, 0.8176189661026001)]</td>\n",
              "    </tr>\n",
              "  </tbody>\n",
              "</table>\n",
              "</div>\n",
              "    <div class=\"colab-df-buttons\">\n",
              "\n",
              "  <div class=\"colab-df-container\">\n",
              "    <button class=\"colab-df-convert\" onclick=\"convertToInteractive('df-c08014f4-43be-40b3-b831-2a3f8307653e')\"\n",
              "            title=\"Convert this dataframe to an interactive table.\"\n",
              "            style=\"display:none;\">\n",
              "\n",
              "  <svg xmlns=\"http://www.w3.org/2000/svg\" height=\"24px\" viewBox=\"0 -960 960 960\">\n",
              "    <path d=\"M120-120v-720h720v720H120Zm60-500h600v-160H180v160Zm220 220h160v-160H400v160Zm0 220h160v-160H400v160ZM180-400h160v-160H180v160Zm440 0h160v-160H620v160ZM180-180h160v-160H180v160Zm440 0h160v-160H620v160Z\"/>\n",
              "  </svg>\n",
              "    </button>\n",
              "\n",
              "  <style>\n",
              "    .colab-df-container {\n",
              "      display:flex;\n",
              "      gap: 12px;\n",
              "    }\n",
              "\n",
              "    .colab-df-convert {\n",
              "      background-color: #E8F0FE;\n",
              "      border: none;\n",
              "      border-radius: 50%;\n",
              "      cursor: pointer;\n",
              "      display: none;\n",
              "      fill: #1967D2;\n",
              "      height: 32px;\n",
              "      padding: 0 0 0 0;\n",
              "      width: 32px;\n",
              "    }\n",
              "\n",
              "    .colab-df-convert:hover {\n",
              "      background-color: #E2EBFA;\n",
              "      box-shadow: 0px 1px 2px rgba(60, 64, 67, 0.3), 0px 1px 3px 1px rgba(60, 64, 67, 0.15);\n",
              "      fill: #174EA6;\n",
              "    }\n",
              "\n",
              "    .colab-df-buttons div {\n",
              "      margin-bottom: 4px;\n",
              "    }\n",
              "\n",
              "    [theme=dark] .colab-df-convert {\n",
              "      background-color: #3B4455;\n",
              "      fill: #D2E3FC;\n",
              "    }\n",
              "\n",
              "    [theme=dark] .colab-df-convert:hover {\n",
              "      background-color: #434B5C;\n",
              "      box-shadow: 0px 1px 3px 1px rgba(0, 0, 0, 0.15);\n",
              "      filter: drop-shadow(0px 1px 2px rgba(0, 0, 0, 0.3));\n",
              "      fill: #FFFFFF;\n",
              "    }\n",
              "  </style>\n",
              "\n",
              "    <script>\n",
              "      const buttonEl =\n",
              "        document.querySelector('#df-c08014f4-43be-40b3-b831-2a3f8307653e button.colab-df-convert');\n",
              "      buttonEl.style.display =\n",
              "        google.colab.kernel.accessAllowed ? 'block' : 'none';\n",
              "\n",
              "      async function convertToInteractive(key) {\n",
              "        const element = document.querySelector('#df-c08014f4-43be-40b3-b831-2a3f8307653e');\n",
              "        const dataTable =\n",
              "          await google.colab.kernel.invokeFunction('convertToInteractive',\n",
              "                                                    [key], {});\n",
              "        if (!dataTable) return;\n",
              "\n",
              "        const docLinkHtml = 'Like what you see? Visit the ' +\n",
              "          '<a target=\"_blank\" href=https://colab.research.google.com/notebooks/data_table.ipynb>data table notebook</a>'\n",
              "          + ' to learn more about interactive tables.';\n",
              "        element.innerHTML = '';\n",
              "        dataTable['output_type'] = 'display_data';\n",
              "        await google.colab.output.renderOutput(dataTable, element);\n",
              "        const docLink = document.createElement('div');\n",
              "        docLink.innerHTML = docLinkHtml;\n",
              "        element.appendChild(docLink);\n",
              "      }\n",
              "    </script>\n",
              "  </div>\n",
              "\n",
              "\n",
              "    </div>\n",
              "  </div>\n"
            ],
            "application/vnd.google.colaboratory.intrinsic+json": {
              "type": "dataframe",
              "summary": "{\n  \"name\": \"df[['Paragraphs', 'Emotion']]\",\n  \"rows\": 1,\n  \"fields\": [\n    {\n      \"column\": \"Paragraphs\",\n      \"properties\": {\n        \"dtype\": \"string\",\n        \"num_unique_values\": 1,\n        \"samples\": [\n          \"stock tradingmacroeconomics made easy online certification courseby  anirudh saraf founder saraf a  associates chartered accountantstock tradingdow theory made easyby  vishal mehta independent systematic traderstock tradingstock valuation made easyby  rounak gouti investment commentary writer experience in equity researchstock tradingcryptocurrency made easy cryptocurrency courseby  elearnmarkets financial education by stockedgestock tradingmarkets 102 mastering sentiment indicators for swing and positional tradingby  rohit srivastava founder indiachartscomstock tradingoptions trading made easy options trading courseby  anirudh saraf founder saraf a  associates chartered accountantstock tradingtechnical analysis for everyone  technical analysis courseby  abhijit paul technical research head fund manager icici securitiesstock tradingrenko chart patterns made easyby  kaushik akiwatkar derivative trader and investorstock tradingtechnical analysis made easy online certification courseby  souradeep dey equity and commodity trader trainerstock tradingcandlesticks made easy candlestick pattern courseby  elearnmarkets financial education by stockedgestock tradingmarket 101 an insight into trendlines and momentumby  rohit srivastava founder indiachartscomstock tradingstock investing made easy beginners stock market investment courseby  elearnmarkets financial education by stockedgestock tradingoptions trading course for beginnersby  chetan panchamia options traderstock tradingroc made easy master course for roc stock indicatorby  souradeep dey equity and commodity trader trainerstock tradinga2z of stock trading  online stock trading courseby  elearnmarkets financial education by stockedgestock tradingcommodity markets made easy commodity trading courseby  elearnmarkets financial education by stockedgestock tradingrsi made easy rsi trading courseby  souradeep dey equity and commodity trader trainerstock tradingtechnical trading made easy online certification courseby  souradeep dey equity and commodity trader trainerstock tradingfutures trading made easy future  options trading courseby  anirudh saraf founder saraf a  associates chartered accountantwhats moving  and  track    and  on  also etmarketscom is now on telegram for fastest news alerts on financial markets investment strategies and stocks alerts  subscribe to  and read the  onlineand top trending stocks      whats moving  and  track    and  on  also etmarketscom is now on telegram for fastest news alerts on financial markets investment strategies and stocks alerts  subscribe to  and read the  onlineand top trending stocks      all mutual fundstop tax saving mutual fundsbetter than fixed depositslow cost high return fundsbest hybrid fundsbest large cap fundssips starting rs 500top performing mid capspromising multi cap fundstop rated fundstop performing index fundshot on webin case you missed ittop searched companiestop calculatorsmost searched ifsc codestop definitionstop prime articlestop story listingtop performing mftop slideshowlatest newsfollow us onfind this comment offensivechoose your reason below and click on the report button this will alert our moderators to take actionreason for reportingyour reason has been reported to the adminlog inconnect withwill be displayedwill not be displayedwill be displayedworry not youre just a step awayit seems like youre already an etprime member withlogin using your et prime credentials to enjoy all member benefitsto read full story subscribe to et prime34 per week\\n                    billed annually at \\n                    super saver sale  flat 30 offon et prime membershipoffer exclusively for yousave up to rs 700on et prime membershipoffer exclusively for youget 1 year freewith 1 and 2year et prime membershipoffer exclusively for youget 1 year freewith 1 and 2year et prime membershipoffer exclusively for youget flat 40 offthen   1749 for 1 yearoffer exclusively for youet prime at  49 for 1 monththen   1749 for 1 yearfestive offerget flat 20 off on etprime90 days prime access worth rs999 unlocked for you across 20 sectors on 4000 stocksget  worth rs799stories you might be interested in\"\n        ],\n        \"semantic_type\": \"\",\n        \"description\": \"\"\n      }\n    },\n    {\n      \"column\": \"Emotion\",\n      \"properties\": {\n        \"dtype\": \"object\",\n        \"semantic_type\": \"\",\n        \"description\": \"\"\n      }\n    }\n  ]\n}"
            }
          },
          "metadata": {},
          "execution_count": 46
        }
      ]
    },
    {
      "cell_type": "code",
      "source": [],
      "metadata": {
        "id": "aKYaaG5Ad6m6"
      },
      "execution_count": 46,
      "outputs": []
    }
  ]
}